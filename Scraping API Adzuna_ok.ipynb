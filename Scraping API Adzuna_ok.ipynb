{
 "cells": [
  {
   "cell_type": "code",
   "execution_count": 2,
   "id": "b0fadc58-50bf-4208-93a8-e0878678a15d",
   "metadata": {},
   "outputs": [],
   "source": [
    "import json\n",
    "import pandas as pd\n",
    "import requests\n",
    "from tqdm import tqdm\n",
    "from datetime import datetime"
   ]
  },
  {
   "cell_type": "code",
   "execution_count": null,
   "id": "83fb2be5-81f6-47ed-b61a-b6753e2c45eb",
   "metadata": {},
   "outputs": [],
   "source": [
    "# ETAPE 1 connexion à l'API + récupération offres\n",
    "\"\"\"\n",
    "comme je n'arrivais pas à bien séparer les offres les unes des autres, j'ai choisi 1 résultat par page de manière temporaire \n",
    "à  voir ensuite comment améliorer performance\n",
    "\"\"\"\n",
    "\n",
    "def create_url(start_url=\"http://api.adzuna.com/v1/api/jobs/\"):\n",
    "    \"\"\"\n",
    "    concactène l'adresse url à partir des paramètres choisis\n",
    "    comment améliorer pour que les paramètres soient correctement passés ?\n",
    "    \"\"\"\n",
    "    url_list = []\n",
    "    for page_number in range(1, 3):\n",
    "        #start_url = \"http://api.adzuna.com/v1/api/jobs/\"\n",
    "        country = \"fr\"\n",
    "        part0_url = \"/search/\"\n",
    "        number_page = str(page_number) \n",
    "        part1_url = \"?app_id=\"\n",
    "        api_id = \"37fe08af\"\n",
    "        part2_url = \"&app_key=\"\n",
    "        api_key = \"17c1369ea8fb68bc48f834aebc0bec53\"\n",
    "        part3_url = \"&results_per_page=\"\n",
    "        results_per_page = str(1)\n",
    "        part4_url = \"&what_and=\"\n",
    "        what_and = \"data%20engineer\"\n",
    "        part5_url = \"&max_days_old=\"\n",
    "        max_days_old = str(30)\n",
    "        end_url = \"&content-type=application/json\"\n",
    "        full_url = f\"{start_url}{country}{part0_url}{number_page}{part1_url}{api_id}{part2_url}{api_key}{part3_url}{results_per_page}{part4_url}{what_and}{part5_url}{max_days_old}{end_url}\"\n",
    "        url_list.append(full_url)\n",
    "    return url_list\n",
    "\n",
    "\n",
    "def scrape_urls(url):\n",
    "    \"\"\"\n",
    "    lance la requête sur l'api Adzuna pour chacunes des url crééés\n",
    "    si le status_code est incorrect, il s'affiche et l'url liée s'affiche\n",
    "    \"\"\"\n",
    "    try:\n",
    "        response = requests.get(url)\n",
    "    except Exception as response.status_code NOT 200:\n",
    "        print(\"The request for {} was not successful : status {}\".format(url, response.status_code))\n",
    "        return None\n",
    "    return response\n"
   ]
  }
 ],
 "metadata": {
  "kernelspec": {
   "display_name": "Python 3 (ipykernel)",
   "language": "python",
   "name": "python3"
  },
  "language_info": {
   "codemirror_mode": {
    "name": "ipython",
    "version": 3
   },
   "file_extension": ".py",
   "mimetype": "text/x-python",
   "name": "python",
   "nbconvert_exporter": "python",
   "pygments_lexer": "ipython3",
   "version": "3.12.0"
  }
 },
 "nbformat": 4,
 "nbformat_minor": 5
}
