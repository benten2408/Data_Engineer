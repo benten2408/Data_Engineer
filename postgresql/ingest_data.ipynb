{
 "cells": [
  {
   "cell_type": "code",
   "execution_count": 50,
   "metadata": {},
   "outputs": [],
   "source": [
    "import json \n",
    "import pandas as pd\n",
    "import psycopg2\n",
    "from psycopg2.extensions import ISOLATION_LEVEL_AUTOCOMMIT"
   ]
  },
  {
   "cell_type": "code",
   "execution_count": 51,
   "metadata": {},
   "outputs": [],
   "source": [
    "db_params = {\n",
    "    \"database\": \"job_market\",\n",
    "    \"user\": \"admin\",\n",
    "    \"password\": \"root\",\n",
    "    \"host\": \"localhost\",\n",
    "    \"port\": \"5432\"\n",
    "}\n",
    "\n",
    "conn = psycopg2.connect(**db_params)\n",
    "conn.set_isolation_level(ISOLATION_LEVEL_AUTOCOMMIT)\n",
    "cur = conn.cursor()"
   ]
  },
  {
   "cell_type": "code",
   "execution_count": 52,
   "metadata": {},
   "outputs": [],
   "source": [
    "def get_or_create_company(cur, company_data):\n",
    "    company = eval(company_data)\n",
    "    cur.execute(\"SELECT companyId FROM Companies WHERE companyName = %s;\", (company['name'],))\n",
    "    result = cur.fetchone()\n",
    "    if result:\n",
    "        return result[0]\n",
    "    else:\n",
    "        cur.execute(\"INSERT INTO Companies (companyName, location, sector, information) VALUES (%s, %s, %s, %s) RETURNING companyId;\",\n",
    "                    (company['name'], company.get('location'), company.get('sector'), ''))\n",
    "        return cur.fetchone()[0]\n",
    "\n",
    "def get_or_create_source(cur, source_name):\n",
    "    cur.execute(\"SELECT sourceId FROM Sources WHERE sourceName = %s;\", (source_name,))\n",
    "    result = cur.fetchone()\n",
    "    if result:\n",
    "        return result[0]\n",
    "    else:\n",
    "        cur.execute(\"INSERT INTO Sources (sourceName) VALUES (%s) RETURNING sourceId;\", (source_name,))\n",
    "        return cur.fetchone()[0]"
   ]
  },
  {
   "cell_type": "code",
   "execution_count": 53,
   "metadata": {},
   "outputs": [],
   "source": [
    "\n",
    "job_offer_adzuna = pd.read_csv('../web_scrapping_wttj/output/job_offers_adzuna.csv')\n",
    "job_offer_wttj = pd.read_csv('../web_scrapping_wttj/output/job_offers_wttj.csv')\n",
    "\n",
    "df = pd.concat([job_offer_adzuna, job_offer_wttj], ignore_index=True)\n",
    "df = df[~df.company.isna()].reset_index(drop=True)\n",
    "\n",
    "df = df.assign(\n",
    "\tstarting_date=pd.to_datetime(df.starting_date, format='%d %B %Y')\n",
    ")\n",
    "df['starting_date'] = df['starting_date'].dt.date\n",
    "\n",
    "df['publication_date'] = pd.to_datetime(df['publication_date'], errors='coerce', format='%Y-%m-%d')\n",
    "\n",
    "df = df.where(pd.notnull(df), None)\n",
    "\n",
    "for _, row in df.iterrows():\n",
    "    company_id = get_or_create_company(cur, row['company'])\n",
    "    source_id = get_or_create_source(cur, row['source'])\n",
    "\n",
    "    job_offer_data = (\n",
    "        row['title'],\n",
    "        company_id,\n",
    "        row['salary'],\n",
    "        row['remote_type'],\n",
    "        row['contract_type'],\n",
    "        row['starting_date'] if not pd.isnull(row['starting_date']) else None,\n",
    "        row['location'],\n",
    "        row['required_experience'],\n",
    "        row['education'],\n",
    "        row['description'],\n",
    "        row['profil_experience'],\n",
    "        row['publication_date'].date() if not pd.isnull(row['publication_date']) else None,\n",
    "        row['url_direct_offer'],\n",
    "        source_id\n",
    "    )\n",
    "    cur.execute(\"INSERT INTO JobOffers (title, companyId, salary, remoteType, contractType, startingDate, location, requiredExp, education, descriptions, profilExp, publicationDate, jobLink, sourceId) VALUES (%s, %s, %s, %s, %s, %s, %s, %s, %s, %s, %s, %s, %s, %s);\", job_offer_data)\n",
    "\n",
    "conn.commit()\n",
    "cur.close()\n",
    "conn.close()"
   ]
  },
  {
   "cell_type": "code",
   "execution_count": 6,
   "metadata": {},
   "outputs": [],
   "source": [
    "# for Skills table"
   ]
  },
  {
   "cell_type": "code",
   "execution_count": 39,
   "metadata": {},
   "outputs": [],
   "source": [
    "\n",
    "\n"
   ]
  }
 ],
 "metadata": {
  "kernelspec": {
   "display_name": "base",
   "language": "python",
   "name": "python3"
  },
  "language_info": {
   "codemirror_mode": {
    "name": "ipython",
    "version": 3
   },
   "file_extension": ".py",
   "mimetype": "text/x-python",
   "name": "python",
   "nbconvert_exporter": "python",
   "pygments_lexer": "ipython3",
   "version": "3.11.5"
  }
 },
 "nbformat": 4,
 "nbformat_minor": 2
}
