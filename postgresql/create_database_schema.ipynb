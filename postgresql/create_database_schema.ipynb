{
 "cells": [
  {
   "cell_type": "code",
   "execution_count": 12,
   "metadata": {},
   "outputs": [],
   "source": [
    "import psycopg2\n",
    "from psycopg2.extensions import ISOLATION_LEVEL_AUTOCOMMIT"
   ]
  },
  {
   "cell_type": "code",
   "execution_count": 17,
   "metadata": {},
   "outputs": [
    {
     "name": "stdout",
     "output_type": "stream",
     "text": [
      "Database 'job_market' created successfully.\n"
     ]
    }
   ],
   "source": [
    "default_db_params = {\n",
    "    \"user\": \"admin\",\n",
    "    \"password\": \"root\",\n",
    "    \"host\": \"localhost\",\n",
    "    \"port\": \"5432\"\n",
    "}\n",
    "\n",
    "conn = psycopg2.connect(**default_db_params)\n",
    "conn.set_isolation_level(ISOLATION_LEVEL_AUTOCOMMIT)\n",
    "cur = conn.cursor()\n",
    "\n",
    "try:\n",
    "    cur.execute(\"CREATE DATABASE job_market;\")\n",
    "    print(\"Database 'job_market' created successfully.\")\n",
    "except psycopg2.Error as e:\n",
    "    print(f\"An error occurred: {e}\")\n",
    "finally:\n",
    "    cur.close()\n",
    "    conn.close()"
   ]
  },
  {
   "cell_type": "code",
   "execution_count": 18,
   "metadata": {},
   "outputs": [],
   "source": [
    "db_params = {\n",
    "    \"database\": \"job_market\",\n",
    "    \"user\": \"admin\",\n",
    "    \"password\": \"root\",\n",
    "    \"host\": \"localhost\",\n",
    "    \"port\": \"5432\"\n",
    "}\n",
    "\n",
    "conn = psycopg2.connect(**db_params)\n",
    "cur = conn.cursor()\n"
   ]
  },
  {
   "cell_type": "code",
   "execution_count": 19,
   "metadata": {},
   "outputs": [
    {
     "name": "stdout",
     "output_type": "stream",
     "text": [
      "Table created successfully.\n",
      "Table created successfully.\n",
      "Table created successfully.\n",
      "Table created successfully.\n",
      "Database schema created successfully.\n"
     ]
    }
   ],
   "source": [
    "\n",
    "commands = (\n",
    "    \"\"\"\n",
    "    CREATE TABLE Companies (\n",
    "        CompanyID SERIAL PRIMARY KEY,\n",
    "        CompanyName VARCHAR(255),\n",
    "        location VARCHAR(255),\n",
    "        Sector VARCHAR(255),\n",
    "        Information TEXT\n",
    "    );\n",
    "    \"\"\",\n",
    "    \"\"\"\n",
    "    CREATE TABLE Source (\n",
    "        SourceId SERIAL PRIMARY KEY,\n",
    "        SourceName VARCHAR(255)\n",
    "    );\n",
    "    \"\"\",\n",
    "    \"\"\"\n",
    "    CREATE TABLE Skills (\n",
    "        SkillsID SERIAL PRIMARY KEY,\n",
    "        SkillName VARCHAR(255)\n",
    "    );\n",
    "    \"\"\",\n",
    "    \"\"\"\n",
    "    CREATE TABLE job_offers (\n",
    "        Title VARCHAR(255),\n",
    "        companyId INTEGER REFERENCES Companies(CompanyID),\n",
    "        salary VARCHAR(255),\n",
    "        remoteType VARCHAR(255),\n",
    "        ContractType VARCHAR(255),\n",
    "        StartingDate DATE,\n",
    "        location VARCHAR(255),\n",
    "        require_exp VARCHAR(255),\n",
    "        education VARCHAR(255),\n",
    "        descriptions TEXT,\n",
    "        profil_exp TEXT,\n",
    "        link VARCHAR(255),\n",
    "        sourceId INTEGER REFERENCES Source(SourceId)\n",
    "    );\n",
    "    \"\"\"\n",
    ")\n",
    "\n",
    "for command in commands:\n",
    "    try:\n",
    "        cur.execute(command)\n",
    "        print(\"Table created successfully.\")\n",
    "    except psycopg2.Error as e:\n",
    "        print(f\"An error occurred: {e}\")\n",
    "\n",
    "conn.commit()\n",
    "cur.close()\n",
    "conn.close()\n",
    "\n",
    "print(\"Database schema created successfully.\")"
   ]
  }
 ],
 "metadata": {
  "kernelspec": {
   "display_name": "base",
   "language": "python",
   "name": "python3"
  },
  "language_info": {
   "codemirror_mode": {
    "name": "ipython",
    "version": 3
   },
   "file_extension": ".py",
   "mimetype": "text/x-python",
   "name": "python",
   "nbconvert_exporter": "python",
   "pygments_lexer": "ipython3",
   "version": "3.11.5"
  }
 },
 "nbformat": 4,
 "nbformat_minor": 2
}
