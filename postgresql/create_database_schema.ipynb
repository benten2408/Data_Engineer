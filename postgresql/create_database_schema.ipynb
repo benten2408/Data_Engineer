{
 "cells": [
  {
   "cell_type": "code",
   "execution_count": 1,
   "metadata": {},
   "outputs": [],
   "source": [
    "import psycopg2\n",
    "from psycopg2.extensions import ISOLATION_LEVEL_AUTOCOMMIT"
   ]
  },
  {
   "cell_type": "code",
   "execution_count": 2,
   "metadata": {},
   "outputs": [
    {
     "name": "stdout",
     "output_type": "stream",
     "text": [
      "Database 'job_market' created successfully.\n"
     ]
    }
   ],
   "source": [
    "default_db_params = {\n",
    "    \"user\": \"admin\",\n",
    "    \"password\": \"root\",\n",
    "    \"host\": \"localhost\",\n",
    "    \"port\": \"5432\"\n",
    "}\n",
    "\n",
    "conn = psycopg2.connect(**default_db_params)\n",
    "conn.set_isolation_level(ISOLATION_LEVEL_AUTOCOMMIT)\n",
    "cur = conn.cursor()\n",
    "\n",
    "try:\n",
    "    cur.execute(\"DROP DATABASE IF EXISTS job_market WITH (force);\")\n",
    "    cur.execute(\"CREATE DATABASE job_market;\")\n",
    "    print(\"Database 'job_market' created successfully.\")\n",
    "except psycopg2.Error as e:\n",
    "    print(f\"An error occurred: {e}\")\n",
    "finally:\n",
    "    cur.close()\n",
    "    conn.close()"
   ]
  },
  {
   "cell_type": "code",
   "execution_count": 3,
   "metadata": {},
   "outputs": [],
   "source": [
    "db_params = {\n",
    "    \"database\": \"job_market\",\n",
    "    \"user\": \"admin\",\n",
    "    \"password\": \"root\",\n",
    "    \"host\": \"localhost\",\n",
    "    \"port\": \"5432\"\n",
    "}\n",
    "\n",
    "conn = psycopg2.connect(**db_params)\n",
    "cur = conn.cursor()\n"
   ]
  },
  {
   "cell_type": "code",
   "execution_count": 4,
   "metadata": {},
   "outputs": [
    {
     "name": "stdout",
     "output_type": "stream",
     "text": [
      "Table  Companies  created successfully.\n",
      "Table  Sources  created successfully.\n",
      "Table  Skills  created successfully.\n",
      "Table  JobOffers  created successfully.\n",
      "Table  JobOffer_Skills  created successfully.\n",
      "JobMarket database schema created successfully.\n"
     ]
    }
   ],
   "source": [
    "\n",
    "commands = (\n",
    "    \"\"\"\n",
    "    CREATE TABLE Companies (\n",
    "        companyID SERIAL PRIMARY KEY,\n",
    "        companyName VARCHAR(255),\n",
    "        location VARCHAR(255),\n",
    "        sector VARCHAR(255),\n",
    "        information TEXT\n",
    "    );\n",
    "    \"\"\",\n",
    "    \"\"\"\n",
    "    CREATE TABLE Sources (\n",
    "        sourceId SERIAL PRIMARY KEY,\n",
    "        sourceName VARCHAR(255)\n",
    "    );\n",
    "    \"\"\",\n",
    "    \"\"\"\n",
    "    CREATE TABLE Skills (\n",
    "        skillId SERIAL PRIMARY KEY,\n",
    "        skillName VARCHAR(255)\n",
    "    );\n",
    "    \"\"\",\n",
    "    \"\"\"\n",
    "    CREATE TABLE JobOffers (\n",
    "        jobOfferId SERIAL PRIMARY KEY,\n",
    "        title VARCHAR(255),\n",
    "        companyId INTEGER REFERENCES Companies(CompanyID),\n",
    "        salary VARCHAR(255),\n",
    "        remoteType VARCHAR(255),\n",
    "        contractType VARCHAR(255),\n",
    "        startingDate DATE,\n",
    "        location VARCHAR(255),\n",
    "        requiredExp VARCHAR(255),\n",
    "        education VARCHAR(255),\n",
    "        descriptions TEXT,\n",
    "        profilExp TEXT,\n",
    "        publicationDate DATE,\n",
    "        jobLink VARCHAR(255),\n",
    "        sourceId INTEGER REFERENCES Sources(SourceId)\n",
    "    );\n",
    "    \"\"\",\n",
    "    \"\"\"\n",
    "    CREATE TABLE JobOffer_Skills (\n",
    "        jobOfferId INTEGER REFERENCES JobOffers,\n",
    "        skillId INTEGER REFERENCES Skills(skillId),\n",
    "        PRIMARY KEY (jobOfferId, skillId)\n",
    "    );\n",
    "    \"\"\"\n",
    ")\n",
    "\n",
    "for command in commands:\n",
    "    table_name = ''.join(command.split(\"CREATE TABLE\")[1].split(\"(\")[0])\n",
    "    try:\n",
    "        cur.execute(command)\n",
    "        print(f\"Table {table_name} created successfully.\")\n",
    "    except psycopg2.Error as e:\n",
    "        print(f\"An error occurred: {e}\")\n",
    "\n",
    "conn.commit()\n",
    "cur.close()\n",
    "conn.close()\n",
    "#faire un test avant cette impression pour que ça ne s'affiche uniquement si les 5 tables sont correctement créées\n",
    "print(\"JobMarket database schema created successfully.\")"
   ]
  },
  {
   "cell_type": "code",
   "execution_count": null,
   "metadata": {},
   "outputs": [],
   "source": []
  }
 ],
 "metadata": {
  "kernelspec": {
   "display_name": "base",
   "language": "python",
   "name": "python3"
  },
  "language_info": {
   "codemirror_mode": {
    "name": "ipython",
    "version": 3
   },
   "file_extension": ".py",
   "mimetype": "text/x-python",
   "name": "python",
   "nbconvert_exporter": "python",
   "pygments_lexer": "ipython3",
   "version": "3.11.5"
  }
 },
 "nbformat": 4,
 "nbformat_minor": 2
}
